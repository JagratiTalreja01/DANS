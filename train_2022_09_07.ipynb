{
 "cells": [
  {
   "cell_type": "code",
   "execution_count": 3,
   "id": "df5dca9c",
   "metadata": {},
   "outputs": [
    {
     "name": "stdout",
     "output_type": "stream",
     "text": [
      "usage: main.py [-h] [--debug] [--template TEMPLATE] [--n_threads N_THREADS]\r\n",
      "               [--cpu] [--n_GPUs N_GPUS] [--seed SEED]\r\n",
      "               [--local_rank LOCAL_RANK] [--dir_data DIR_DATA]\r\n",
      "               [--dir_demo DIR_DEMO] [--data_train DATA_TRAIN]\r\n",
      "               [--data_test DATA_TEST] [--data_range DATA_RANGE] [--ext EXT]\r\n",
      "               [--scale SCALE] [--patch_size PATCH_SIZE]\r\n",
      "               [--rgb_range RGB_RANGE] [--n_colors N_COLORS]\r\n",
      "               [--chunk_size CHUNK_SIZE] [--n_hashes N_HASHES] [--chop]\r\n",
      "               [--no_augment] [--model MODEL] [--act ACT]\r\n",
      "               [--pre_train PRE_TRAIN] [--extend EXTEND]\r\n",
      "               [--n_resblocks N_RESBLOCKS] [--n_feats N_FEATS]\r\n",
      "               [--res_scale RES_SCALE] [--shift_mean SHIFT_MEAN] [--dilation]\r\n",
      "               [--precision {single,half}] [--G0 G0] [--RDNkSize RDNKSIZE]\r\n",
      "               [--RDNconfig RDNCONFIG] [--depth DEPTH]\r\n",
      "               [--n_resgroups N_RESGROUPS] [--reduction REDUCTION] [--reset]\r\n",
      "               [--test_every TEST_EVERY] [--epochs EPOCHS]\r\n",
      "               [--batch_size BATCH_SIZE] [--split_batch SPLIT_BATCH]\r\n",
      "               [--self_ensemble] [--test_only] [--gan_k GAN_K] [--lr LR]\r\n",
      "               [--decay DECAY] [--gamma GAMMA]\r\n",
      "               [--optimizer {SGD,ADAM,RMSprop}] [--momentum MOMENTUM]\r\n",
      "               [--betas BETAS] [--epsilon EPSILON]\r\n",
      "               [--weight_decay WEIGHT_DECAY] [--gclip GCLIP] [--loss LOSS]\r\n",
      "               [--skip_threshold SKIP_THRESHOLD] [--save SAVE] [--load LOAD]\r\n",
      "               [--resume RESUME] [--save_models] [--print_every PRINT_EVERY]\r\n",
      "               [--save_results] [--save_gt]\r\n",
      "main.py: error: unrecognized arguments: main.py\r\n"
     ]
    }
   ],
   "source": [
    "!python3 main.py --dir_data ../../Dataset/ --n_GPUs 1 --rgb_range 1 --chunk_size 144 --n_hashes 4 --save_models --lr 1e-4 --decay 200-400-600-800 --epochs 50 --chop --save_results --n_resblocks 32 --n_feats 64 --res_scale 0.1 --batch_size 16 --model python main.py --dir_data ../../Dataset/ --n_GPUs 1 --rgb_range 1 --chunk_size 144 --n_hashes 4 --save_models --lr 1e-4 --decay 200-400-600-800 --epochs 50 --chop --save_results --n_resblocks 32 --n_feats 64 --res_scale 0.1 --batch_size 16 --model nlsn_split --scale 2 --patch_size 96 --save nlsn_split_x2_testfix --data_train DIV2K --scale 2 --patch_size 96 --save NLSN_x2_testfix --data_train DIV2K"
   ]
  },
  {
   "cell_type": "code",
   "execution_count": 4,
   "id": "3925701e",
   "metadata": {},
   "outputs": [
    {
     "name": "stdout",
     "output_type": "stream",
     "text": [
      "checksize_copy.py\t  jupyterhub.sqlite  train_2022_09_07.ipynb\r\n",
      "checksize.py\t\t  loss\t\t     trainer.py\r\n",
      "data\t\t\t  main.py\t     utility.py\r\n",
      "dataloader.py\t\t  model\t\t     utils\r\n",
      "demo.sh\t\t\t  option.py\t     videotester.py\r\n",
      "__init__.py\t\t  __pycache__\r\n",
      "jupyterhub_cookie_secret  template.py\r\n"
     ]
    }
   ],
   "source": [
    "!ls"
   ]
  },
  {
   "cell_type": "code",
   "execution_count": null,
   "id": "5dd51e28",
   "metadata": {},
   "outputs": [],
   "source": []
  }
 ],
 "metadata": {
  "kernelspec": {
   "display_name": "Python 3 (ipykernel)",
   "language": "python",
   "name": "python3"
  },
  "language_info": {
   "codemirror_mode": {
    "name": "ipython",
    "version": 3
   },
   "file_extension": ".py",
   "mimetype": "text/x-python",
   "name": "python",
   "nbconvert_exporter": "python",
   "pygments_lexer": "ipython3",
   "version": "3.9.12"
  }
 },
 "nbformat": 4,
 "nbformat_minor": 5
}
